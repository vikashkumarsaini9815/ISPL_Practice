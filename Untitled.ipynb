{
 "cells": [
  {
   "cell_type": "code",
   "execution_count": null,
   "id": "277a2adb",
   "metadata": {},
   "outputs": [],
   "source": []
  },
  {
   "cell_type": "code",
   "execution_count": 1,
   "id": "4297c8bb",
   "metadata": {},
   "outputs": [],
   "source": [
    "import os, sys\n",
    "os.environ.setdefault('DJANGO_SETTINGS_MODULE', 'ISPL_project.settings')\n",
    "os.environ[\"DJANGO_ALLOW_ASYNC_UNSAFE\"] = \"true\"\n",
    "import django\n",
    "django.setup()"
   ]
  },
  {
   "cell_type": "code",
   "execution_count": null,
   "id": "4f5149ee",
   "metadata": {},
   "outputs": [],
   "source": []
  },
  {
   "cell_type": "code",
   "execution_count": 2,
   "id": "51543cfd",
   "metadata": {},
   "outputs": [],
   "source": [
    "from ISPL_app.models import Student, Team\n",
    "import json\n",
    "from django.core.serializers import serialize\n",
    "#from ISPL_app.serializer import *\n",
    "# from collections.abc import Mapping\n",
    "# from collections.abc import Sequence"
   ]
  },
  {
   "cell_type": "code",
   "execution_count": null,
   "id": "a2921b84",
   "metadata": {},
   "outputs": [],
   "source": []
  },
  {
   "cell_type": "code",
   "execution_count": null,
   "id": "748e27ff",
   "metadata": {},
   "outputs": [],
   "source": [
    "# student field \n",
    "\n",
    "# {\"name\":\"vicky\",\"contact\":\"94747394\",\"email\":\"vick123@gmail.com\",\"school_name\":\"bbbc school\",\"address\":\"bangalore\"}\n",
    "\n",
    "# team field\n",
    "\n",
    "# {\"team_name\":\"garud\",\"project_idea\":\"bvb jfj jskf\",\"project_discrapition\":\"xcvbnmghj\"}"
   ]
  },
  {
   "cell_type": "code",
   "execution_count": null,
   "id": "4c4c0ffa",
   "metadata": {},
   "outputs": [],
   "source": [
    "# registration api json format\n",
    "\n",
    "\n",
    "\n",
    "\n",
    "student = {\n",
    "    \"id\":\"1\",\n",
    "    \"team_name\":\"kings\",\n",
    "    \"project_idea\": \"aaaaaaaa\",\n",
    "    \"project_discrapition\": \"ppppppppppppp\",\n",
    "    \"students\": [{\n",
    "        \"id\":1,\n",
    "        \"name\": \"raju\",\n",
    "        \"contact\": \"0399879\",\n",
    "        \"email\": \"raju@gmail.com\",\n",
    "        \"school_name\": \"jaipur school\",\n",
    "        \"address\": \"jaipur ram nagar\",\n",
    "        \"is_lead\":\"True\"\n",
    "        \n",
    "    },\n",
    "  {\n",
    "      \"id\":2,\n",
    "      \"name\": \" kumar\",\n",
    "      \"contact\":\"1235247979\",\n",
    "      \"email\": \"k123@gmail.com\",\n",
    "      \"school_name\": \" school\",\n",
    "      \"address\": \"khejroli jaipur\",\n",
    "      \"is_lead\":\"False\"\n",
    "      \n",
    "  }]}"
   ]
  },
  {
   "cell_type": "code",
   "execution_count": null,
   "id": "5b0acdb4",
   "metadata": {},
   "outputs": [],
   "source": []
  },
  {
   "cell_type": "code",
   "execution_count": null,
   "id": "24492334",
   "metadata": {},
   "outputs": [],
   "source": [
    "students = Student.objects.all()\n",
    "for ele in students:\n",
    "    print(ele)"
   ]
  },
  {
   "cell_type": "code",
   "execution_count": null,
   "id": "c23ba553",
   "metadata": {},
   "outputs": [],
   "source": [
    "teams = Team.objects.all()\n",
    "for i in teams:\n",
    "    print(i.id,i.team_name,i.student,)"
   ]
  },
  {
   "cell_type": "code",
   "execution_count": null,
   "id": "60ddfafb",
   "metadata": {},
   "outputs": [],
   "source": []
  },
  {
   "cell_type": "code",
   "execution_count": null,
   "id": "caecdb2d",
   "metadata": {},
   "outputs": [],
   "source": [
    "# Update api"
   ]
  },
  {
   "cell_type": "code",
   "execution_count": null,
   "id": "9c04bc87",
   "metadata": {},
   "outputs": [],
   "source": [
    "student = {\n",
    "    \"id\":\"1\",\n",
    "    \"team_name\":\"dddlg\",\n",
    "    \"project_idea\": \"lsjdj\",\n",
    "    \"project_discrapition\": \"\",\n",
    "    \"students\": [{\n",
    "        \"id\":1,\n",
    "        \"name\": \"raju\",\n",
    "        \"contact\": \"0399879\",\n",
    "        \"email\": \"raju@gmail.com\",\n",
    "        \"school_name\": \"jaipur school\",\n",
    "        \"address\": \"jaipur ram nagar\",\n",
    "        \"is_lead\":\"True\"\n",
    "        \n",
    "    },\n",
    "  {\n",
    "      \"id\":2,\n",
    "      \"name\": \" kumar\",\n",
    "      \"contact\":\"1235247979\",\n",
    "      \"email\": \"k123@gmail.com\",\n",
    "      \"school_name\": \" school\",\n",
    "      \"address\": \"khejroli jaipur\",\n",
    "      \"is_lead\":\"False\"\n",
    "      \n",
    "  }]}"
   ]
  },
  {
   "cell_type": "code",
   "execution_count": null,
   "id": "44d30605",
   "metadata": {},
   "outputs": [],
   "source": [
    "\n",
    "team_name = student[\"team_name\"]\n",
    "project_idea = student[\"project_idea\"]\n",
    "project_discrapition = student[\"project_discrapition\"]\n",
    "student_data = student[\"students\"]\n",
    "#print(student_data)\n",
    "T2 = Team.objects.get(pk = 1)\n",
    "print(T2)\n",
    "T2.team_name = team_name\n",
    "T2.project_idea = project_idea\n",
    "T2.project_discrapition = project_discrapition\n",
    "#T2.save()\n",
    "for ele in student_data:\n",
    "    pk = ele[\"id\"]\n",
    "    contact = ele[\"contact\"]\n",
    "    name = ele[\"name\"]\n",
    "    email = ele[\"email\"]\n",
    "    school_name = ele[\"school_name\"]\n",
    "    address = ele[\"address\"]\n",
    "    is_lead = ele[\"is_lead\"]\n",
    "    S = Student.objects.get(pk = pk)\n",
    "   # print(S)\n",
    "    S.name = name\n",
    "    S.contact = contact\n",
    "    S.email = email    \n",
    "    S.school_name = school_name\n",
    "    S.address = address\n",
    "    S.is_lead = is_lead\n",
    "   # S.save()\n",
    "    \n",
    "    \n",
    "    \n",
    "    \n",
    "    \n"
   ]
  },
  {
   "cell_type": "code",
   "execution_count": null,
   "id": "d94ba9ab",
   "metadata": {},
   "outputs": [],
   "source": [
    "class A:\n",
    "    def __init__(self,name):\n",
    "        name = name\n",
    "    x = 5\n",
    "    y = 3\n",
    "    z = 7\n",
    "    \n",
    "aa = A(\"vikash\")\n",
    "aa.z = 3\n",
    "print(aa.z)\n",
    "print(aa.name)"
   ]
  },
  {
   "cell_type": "code",
   "execution_count": null,
   "id": "7572f2dc",
   "metadata": {},
   "outputs": [],
   "source": []
  },
  {
   "cell_type": "code",
   "execution_count": null,
   "id": "7d70f70b",
   "metadata": {},
   "outputs": [],
   "source": [
    "S = Student.objects.get(id = 1)\n",
    "a = S.name = \"name\"\n",
    "b = S.contact = \"1235247979\"\n",
    "c = S.email = \"kumar123@gmail.com\"    \n",
    "d = S.school_name = \"Rama school\"\n",
    "e = S.address = \"khejroli jaipur\"\n",
    "f = S.is_lead = True\n",
    "ss = Student(a,b,c,d,e,f)\n",
    "\n",
    "print(a,b,c,d,e,f)"
   ]
  },
  {
   "cell_type": "code",
   "execution_count": null,
   "id": "d06e4d00",
   "metadata": {},
   "outputs": [],
   "source": [
    "name = student0.name\n",
    "    contact = student0.contact\n",
    "    email = student0.email\n",
    "    school_name = student0.school_name\n",
    "    address = student0.address\n",
    "    is_lead = student0.is_lead"
   ]
  },
  {
   "cell_type": "code",
   "execution_count": null,
   "id": "0c507545",
   "metadata": {},
   "outputs": [],
   "source": [
    "S = Student.objects.create(s00.name=name, s00.contact=contact, s00.email=email, s00.school_name=school_name, s00.address=address, s00.is_lead = is_lead)"
   ]
  },
  {
   "cell_type": "code",
   "execution_count": null,
   "id": "e310dc5e",
   "metadata": {},
   "outputs": [],
   "source": []
  },
  {
   "cell_type": "code",
   "execution_count": null,
   "id": "72f92b35",
   "metadata": {},
   "outputs": [],
   "source": [
    "citys = Team.objects.select_related().all()\n",
    "for c in citys:\n",
    "    print()"
   ]
  },
  {
   "cell_type": "code",
   "execution_count": null,
   "id": "99c2f21d",
   "metadata": {},
   "outputs": [],
   "source": []
  },
  {
   "cell_type": "code",
   "execution_count": null,
   "id": "4849bcf3",
   "metadata": {},
   "outputs": [],
   "source": []
  },
  {
   "cell_type": "code",
   "execution_count": null,
   "id": "dcefb3c3",
   "metadata": {},
   "outputs": [],
   "source": [
    "team_name = student[\"team_name\"]\n",
    "project_idea = student[\"project_idea\"]\n",
    "project_discrapition = student[\"project_discrapition\"]\n",
    "\n",
    "\n",
    "student_data = student[\"students\"]\n",
    "T1 = Team(team_name=team_name, project_idea=project_idea, project_discrapition=project_discrapition)\n",
    "T1.save()\n",
    "for stu in student_data:\n",
    "    name = stu[\"name\"]\n",
    "    contact = stu[\"contact\"]\n",
    "    email = stu[\"email\"]\n",
    "    school_name = stu[\"school_name\"]\n",
    "    address = stu[\"address\"]\n",
    "    is_lead = stu[\"is_lead\"]\n",
    "    S1 = Student(name=name, contact=contact, email=email, school_name=school_name, address=address, is_lead = is_lead)\n",
    "    S1.save()\n",
    "    T1.student.add(S1)\n"
   ]
  },
  {
   "cell_type": "code",
   "execution_count": null,
   "id": "9f834d9c",
   "metadata": {},
   "outputs": [],
   "source": []
  },
  {
   "cell_type": "code",
   "execution_count": null,
   "id": "15c250c8",
   "metadata": {},
   "outputs": [],
   "source": [
    "\n",
    "\n",
    "team_name = student[\"team_name\"]\n",
    "project_idea = student[\"project_idea\"]\n",
    "project_discrapition = student[\"project_discrapition\"]\n",
    "\n",
    "\n",
    "student_data = student[\"students\"]\n",
    "for stu in student_data:\n",
    "    name = stu[\"name\"]\n",
    "    contact = stu[\"contact\"]\n",
    "    email = stu[\"email\"]\n",
    "    school_name = stu[\"school_name\"]\n",
    "    address = stu[\"address\"]\n",
    "    S1 = Student(name=name, contact=contact, email=email, school_name=school_name, address=address)\n",
    "    S1.save()\n",
    "T1 = Team(team_name=team_name, project_idea=project_idea, project_discrapition=project_discrapition)\n",
    "T1.save()"
   ]
  },
  {
   "cell_type": "code",
   "execution_count": null,
   "id": "42ba0649",
   "metadata": {},
   "outputs": [],
   "source": [
    "S1 = Student(name=name, contact=contact, email=email, school_name=school_name, address=address)\n",
    "S1.save()                "
   ]
  },
  {
   "cell_type": "code",
   "execution_count": null,
   "id": "daeee3b2",
   "metadata": {},
   "outputs": [],
   "source": [
    "T1 = Team(team_name=team_name, project_idea=project_idea, project_discrapition=project_discrapition)\n",
    "T1.save()"
   ]
  },
  {
   "cell_type": "code",
   "execution_count": null,
   "id": "0486c424",
   "metadata": {},
   "outputs": [],
   "source": []
  },
  {
   "cell_type": "code",
   "execution_count": null,
   "id": "5da7cf45",
   "metadata": {},
   "outputs": [],
   "source": []
  },
  {
   "cell_type": "code",
   "execution_count": null,
   "id": "16896168",
   "metadata": {},
   "outputs": [],
   "source": [
    "# registration api json format\n",
    "\n",
    "\n",
    "\n",
    "\n",
    "student = {\n",
    "    \"id\":\"1\",\n",
    "    \"team_name\":\"chand\",\n",
    "    \"project_idea\": \"aaaaaaaa\",\n",
    "    \"project_discrapition\": \"ppppppppppppp\",\n",
    "    \"students\": [{\n",
    "        \"id\":1,\n",
    "        \"name\": \"suresh kumar\",\n",
    "        \"contact\": \"039938279\",\n",
    "        \"email\": \"raju@gmail.com\",\n",
    "        \"school_name\": \"jaipur school\",\n",
    "        \"address\": \"jaipur ram nagar\",\n",
    "        \"is_lead\":\"True\"\n",
    "        \n",
    "    },\n",
    "  {\n",
    "      \"id\":2,\n",
    "      \"name\": \"anil kumar\",\n",
    "      \"contact\":\"13524979\",\n",
    "      \"email\": \"k123@gmail.com\",\n",
    "      \"school_name\": \" school\",\n",
    "      \"address\": \"khejroli jaipur\",\n",
    "      \"is_lead\":\"False\"\n",
    "      \n",
    "  }]}"
   ]
  },
  {
   "cell_type": "code",
   "execution_count": null,
   "id": "65df0862",
   "metadata": {},
   "outputs": [],
   "source": [
    "\n",
    "# print(data)\n",
    "team_name = student[\"team_name\"]\n",
    "# print(\"team ....\",team_name)\n",
    "project_idea = student[\"project_idea\"]\n",
    "print(\"project.....\",project_idea)\n",
    "project_discrapition = student[\"project_discrapition\"]\n",
    "\n",
    "\n",
    "T1 = Team(team_name=team_name, project_idea=project_idea, project_discrapition=project_discrapition)\n",
    "T1.save()\n",
    "student =student[\"students\"]\n",
    "# print(student)\n",
    "for ele in student:\n",
    "    print(ele)\n",
    "    name = ele[\"name\"]\n",
    "    contact = ele[\"contact\"]\n",
    "    email = ele[\"email\"]\n",
    "    school_name = ele[\"school_name\"]\n",
    "    address = ele[\"address\"]\n",
    "    is_lead = ele[\"is_lead\"]\n",
    "    S1 = Student(name=name, contact=contact, email=email, school_name=school_name, address=address,is_lead = is_lead)\n",
    "    S1.save()\n",
    "    T1.student.add(S1)\n",
    "print(\"done\")"
   ]
  },
  {
   "cell_type": "code",
   "execution_count": null,
   "id": "8e6def2f",
   "metadata": {},
   "outputs": [],
   "source": []
  },
  {
   "cell_type": "code",
   "execution_count": null,
   "id": "5251c75b",
   "metadata": {},
   "outputs": [],
   "source": []
  },
  {
   "cell_type": "code",
   "execution_count": null,
   "id": "e26a8dde",
   "metadata": {},
   "outputs": [],
   "source": [
    "# registration_Data get api\n",
    "\n",
    "student = Student.objects.get(pk = 7)\n",
    "team = Team.objects.filter(student = student)\n",
    "serializer = serialize(\"json\",team)\n",
    "data = serializer\n",
    "print(data)\n",
    "# student_list = []\n",
    "# for i in data:\n",
    "#     print(i['fields'])\n",
    "#     for stu in i:\n",
    "#         print(stu['fields'])\n",
    "#         student_list.append(student1)\n",
    "#         print(student_list)"
   ]
  },
  {
   "cell_type": "code",
   "execution_count": null,
   "id": "ec08d00f",
   "metadata": {},
   "outputs": [],
   "source": [
    "dd = [{\"model\": \"ISPL_app.team\", \"pk\": 8, \"fields\": {\"team_name\": \"royals\", \"project_idea\": \"aaaaaaaa\", \"project_discrapition\": \"ppppppppppppp\", \"student\": [6, 7]}}]\n",
    "\n",
    "student_data = {}\n",
    "y = json.loads(data)\n",
    "for idx, ee in enumerate(y):\n",
    "   # print(idx,ee)\n",
    "    list1 =[]\n",
    "   # print(ee)\n",
    "    student_id_hold =ee[\"fields\"][\"student\"]\n",
    "    #print(student_id_hold)\n",
    "    for stu in student_id_hold:\n",
    "        #print(stu)\n",
    "        S = Student.objects.get(pk = stu)\n",
    "        student_data = {\n",
    "            \"id\":S.id,\n",
    "            \"name\":S.name,\n",
    "            \"contact\":S.contact,\n",
    "            \"email\":S.email,\n",
    "            \"school_name\":S.school_name,\n",
    "            \"address\":S.address,\n",
    "            \"is_lead\":S.is_lead\n",
    "        }\n",
    "        list1.append(student_data)\n",
    "    \n",
    "y[idx][\"fields\"][\"student\"] = list1\n",
    "\n",
    "print(y)\n",
    "\n",
    "\n",
    "\n"
   ]
  },
  {
   "cell_type": "code",
   "execution_count": null,
   "id": "1bd597d0",
   "metadata": {},
   "outputs": [],
   "source": []
  },
  {
   "cell_type": "code",
   "execution_count": null,
   "id": "02e5c360",
   "metadata": {},
   "outputs": [],
   "source": []
  },
  {
   "cell_type": "code",
   "execution_count": null,
   "id": "6d532119",
   "metadata": {},
   "outputs": [],
   "source": []
  },
  {
   "cell_type": "code",
   "execution_count": null,
   "id": "0dc4835a",
   "metadata": {},
   "outputs": [],
   "source": []
  },
  {
   "cell_type": "code",
   "execution_count": null,
   "id": "0538bf32",
   "metadata": {},
   "outputs": [],
   "source": []
  },
  {
   "cell_type": "code",
   "execution_count": null,
   "id": "8e2cd407",
   "metadata": {},
   "outputs": [],
   "source": []
  },
  {
   "cell_type": "code",
   "execution_count": null,
   "id": "5c7a229b",
   "metadata": {},
   "outputs": [],
   "source": [
    "dd = [{\"model\": \"ISPL_app.team\", \"pk\": 8, \"fields\": {\"team_name\": \"royals\", \"project_idea\": \"aaaaaaaa\", \"project_discrapition\": \"ppppppppppppp\", \"student\": [6, 7]}}]\n",
    "bcc = [3,5,7]\n",
    "for join in dd:\n",
    "    ss = join[\"fields\"][\"student\"]\n",
    "    print(ss)\n",
    "    for ll in bcc:\n",
    "        ss.append(ll)\n",
    "dd"
   ]
  },
  {
   "cell_type": "code",
   "execution_count": null,
   "id": "54f82731",
   "metadata": {},
   "outputs": [],
   "source": [
    "# registration_Data get api\n",
    "\n",
    "student = Student.objects.get(pk = 7)\n",
    "team = Team.objects.filter(student = student)\n",
    "serializer = serialize(\"json\",team)\n",
    "#y = json.dumps(team)\n",
    "print(serializer)\n",
    "for ele in serializer:\n",
    "    for dict1 in ele:\n",
    "        print(dict1)"
   ]
  },
  {
   "cell_type": "code",
   "execution_count": null,
   "id": "3cfe7ea3",
   "metadata": {},
   "outputs": [],
   "source": []
  },
  {
   "cell_type": "code",
   "execution_count": 5,
   "id": "3cb8d3d2",
   "metadata": {},
   "outputs": [],
   "source": [
    "data = {\"id\":1,\"name\":\"kartoos\",\"contact\":\"123456\",\"email\":\"kartoos123@gmail.com\",\"school_name\":\"rampur school\",\"address\":\"jaipur\",\"is_lead\":True}\n",
    "\n",
    "id = data[\"id\"]\n",
    "name = data[\"name\"]\n",
    "contact = data[\"contact\"]\n",
    "email = data[\"email\"]\n",
    "school_name = data[\"school_name\"]\n",
    "address = data[\"address\"]\n",
    "is_lead = data[\"is_lead\"]\n",
    "T1 = Team.objects.get(id=1)\n",
    "S1 = Student(name=name, contact=contact, email=email, school_name=school_name, address=address,is_lead = is_lead)\n",
    "S1.save()\n",
    "T1.student.add(S1)\n",
    "\n",
    "\n",
    "\n",
    "\n",
    "\n",
    "\n",
    "\n",
    "\n"
   ]
  },
  {
   "cell_type": "code",
   "execution_count": null,
   "id": "c3feb260",
   "metadata": {},
   "outputs": [],
   "source": []
  },
  {
   "cell_type": "code",
   "execution_count": null,
   "id": "840a5b69",
   "metadata": {},
   "outputs": [],
   "source": []
  },
  {
   "cell_type": "code",
   "execution_count": 2,
   "id": "3532bd71",
   "metadata": {},
   "outputs": [
    {
     "ename": "ModuleNotFoundError",
     "evalue": "No module named 'request'",
     "output_type": "error",
     "traceback": [
      "\u001b[1;31m---------------------------------------------------------------------------\u001b[0m",
      "\u001b[1;31mModuleNotFoundError\u001b[0m                       Traceback (most recent call last)",
      "Input \u001b[1;32mIn [2]\u001b[0m, in \u001b[0;36m<cell line: 1>\u001b[1;34m()\u001b[0m\n\u001b[1;32m----> 1\u001b[0m \u001b[38;5;28;01mimport\u001b[39;00m \u001b[38;5;21;01mrequest\u001b[39;00m\n\u001b[0;32m      4\u001b[0m Headers \u001b[38;5;241m=\u001b[39m { \u001b[38;5;124m\"\u001b[39m\u001b[38;5;124mAuthorization\u001b[39m\u001b[38;5;124m\"\u001b[39m : \u001b[38;5;124m\"\u001b[39m\u001b[38;5;124mour_unique_secret_token\u001b[39m\u001b[38;5;124m\"\u001b[39m }\n\u001b[0;32m      6\u001b[0m response \u001b[38;5;241m=\u001b[39m request\u001b[38;5;241m.\u001b[39mpost(\u001b[38;5;124m\"\u001b[39m\u001b[38;5;124mhttps://example.com/get-my-account-detail\u001b[39m\u001b[38;5;124m\"\u001b[39m, headers\u001b[38;5;241m=\u001b[39mHeaders)\n",
      "\u001b[1;31mModuleNotFoundError\u001b[0m: No module named 'request'"
     ]
    }
   ],
   "source": [
    "import request\n",
    "\n",
    "\n",
    "Headers = { \"Authorization\" : \"our_unique_secret_token\" }\n",
    "\n",
    "response = request.post(\"https://example.com/get-my-account-detail\", headers=Headers)\n"
   ]
  },
  {
   "cell_type": "code",
   "execution_count": 6,
   "id": "6f5b95a4",
   "metadata": {},
   "outputs": [
    {
     "name": "stdout",
     "output_type": "stream",
     "text": [
      "Status Code 200\n",
      "JSON Response  {'args': {}, 'data': '{\"id\": 1001, \"name\": \"geek\", \"passion\": \"coding\"}', 'files': {}, 'form': {}, 'headers': {'Accept': '*/*', 'Accept-Encoding': 'gzip, deflate', 'Authorization': 'our_unique_secret_token', 'Content-Length': '49', 'Content-Type': 'application/json; charset=utf-8', 'Host': 'httpbin.org', 'User-Agent': 'python-requests/2.28.1', 'X-Amzn-Trace-Id': 'Root=1-63e23a44-416edb66466c1482608bfeac'}, 'json': {'id': 1001, 'name': 'geek', 'passion': 'coding'}, 'origin': '157.38.243.137', 'url': 'https://httpbin.org/post'}\n"
     ]
    }
   ],
   "source": [
    "import requests\n",
    "import json\n",
    "\n",
    "url = \"https://httpbin.org/post\"\n",
    "\n",
    "headers = {\"Content-Type\": \"application/json; charset=utf-8\", \"Authorization\" : \"our_unique_secret_token\"}\n",
    "\n",
    "data = {\n",
    "\t\"id\": 1001,\n",
    "\t\"name\": \"geek\",\n",
    "\t\"passion\": \"coding\",\n",
    "}\n",
    "\n",
    "response = requests.post(url, headers=headers, json=data)\n",
    "\n",
    "print(\"Status Code\", response.status_code)\n",
    "print(\"JSON Response \", response.json())"
   ]
  },
  {
   "cell_type": "code",
   "execution_count": 7,
   "id": "937ca9cc",
   "metadata": {},
   "outputs": [
    {
     "ename": "TypeError",
     "evalue": "'Response' object is not subscriptable",
     "output_type": "error",
     "traceback": [
      "\u001b[1;31m---------------------------------------------------------------------------\u001b[0m",
      "\u001b[1;31mTypeError\u001b[0m                                 Traceback (most recent call last)",
      "Input \u001b[1;32mIn [7]\u001b[0m, in \u001b[0;36m<cell line: 1>\u001b[1;34m()\u001b[0m\n\u001b[1;32m----> 1\u001b[0m \u001b[38;5;28mprint\u001b[39m(\u001b[43mresponse\u001b[49m\u001b[43m[\u001b[49m\u001b[38;5;124;43m\"\u001b[39;49m\u001b[38;5;124;43mheaders\u001b[39;49m\u001b[38;5;124;43m\"\u001b[39;49m\u001b[43m]\u001b[49m)\n",
      "\u001b[1;31mTypeError\u001b[0m: 'Response' object is not subscriptable"
     ]
    }
   ],
   "source": [
    "print()"
   ]
  },
  {
   "cell_type": "code",
   "execution_count": null,
   "id": "e2406bf3",
   "metadata": {},
   "outputs": [],
   "source": []
  },
  {
   "cell_type": "code",
   "execution_count": null,
   "id": "f8c27379",
   "metadata": {},
   "outputs": [],
   "source": []
  },
  {
   "cell_type": "code",
   "execution_count": null,
   "id": "99006f39",
   "metadata": {},
   "outputs": [],
   "source": []
  },
  {
   "cell_type": "code",
   "execution_count": null,
   "id": "c29f6dfc",
   "metadata": {},
   "outputs": [],
   "source": []
  },
  {
   "cell_type": "code",
   "execution_count": null,
   "id": "e5378ef7",
   "metadata": {},
   "outputs": [],
   "source": []
  },
  {
   "cell_type": "code",
   "execution_count": null,
   "id": "5523d99c",
   "metadata": {},
   "outputs": [],
   "source": []
  },
  {
   "cell_type": "markdown",
   "id": "23f95560",
   "metadata": {},
   "source": [
    "# Many To Many Relationship"
   ]
  },
  {
   "cell_type": "code",
   "execution_count": null,
   "id": "05424fac",
   "metadata": {},
   "outputs": [],
   "source": []
  },
  {
   "cell_type": "code",
   "execution_count": null,
   "id": "3f3d0ae4",
   "metadata": {},
   "outputs": [],
   "source": [
    "sss = Student.objects.all()\n",
    "ttt = Team.objects.all()\n",
    "print(sss)\n",
    "print(ttt)"
   ]
  },
  {
   "cell_type": "code",
   "execution_count": null,
   "id": "fea34545",
   "metadata": {},
   "outputs": [],
   "source": [
    "ss1 = Student.objects.get(id = 1)\n",
    "tt1 = Team.objects.get(id = 1)\n",
    "print(ss1)\n",
    "print(tt1)"
   ]
  },
  {
   "cell_type": "code",
   "execution_count": null,
   "id": "58341dca",
   "metadata": {},
   "outputs": [],
   "source": [
    "ss2 = Student.objects.get(pk = 1)\n",
    "print(type(ss2))"
   ]
  },
  {
   "cell_type": "code",
   "execution_count": null,
   "id": "d3ef6a8f",
   "metadata": {},
   "outputs": [],
   "source": []
  },
  {
   "cell_type": "code",
   "execution_count": null,
   "id": "85027bdd",
   "metadata": {},
   "outputs": [],
   "source": []
  },
  {
   "cell_type": "code",
   "execution_count": null,
   "id": "5dd57a53",
   "metadata": {},
   "outputs": [],
   "source": []
  },
  {
   "cell_type": "code",
   "execution_count": null,
   "id": "4df1ed2d",
   "metadata": {},
   "outputs": [],
   "source": []
  },
  {
   "cell_type": "code",
   "execution_count": null,
   "id": "d625c0d8",
   "metadata": {},
   "outputs": [],
   "source": []
  },
  {
   "cell_type": "code",
   "execution_count": null,
   "id": "213d295a",
   "metadata": {},
   "outputs": [],
   "source": []
  },
  {
   "cell_type": "code",
   "execution_count": null,
   "id": "386d97b4",
   "metadata": {},
   "outputs": [],
   "source": []
  },
  {
   "cell_type": "code",
   "execution_count": null,
   "id": "f594053e",
   "metadata": {},
   "outputs": [],
   "source": []
  },
  {
   "cell_type": "code",
   "execution_count": null,
   "id": "e5e0fca8",
   "metadata": {},
   "outputs": [],
   "source": []
  }
 ],
 "metadata": {
  "kernelspec": {
   "display_name": "Python 3 (ipykernel)",
   "language": "python",
   "name": "python3"
  },
  "language_info": {
   "codemirror_mode": {
    "name": "ipython",
    "version": 3
   },
   "file_extension": ".py",
   "mimetype": "text/x-python",
   "name": "python",
   "nbconvert_exporter": "python",
   "pygments_lexer": "ipython3",
   "version": "3.10.7"
  }
 },
 "nbformat": 4,
 "nbformat_minor": 5
}
