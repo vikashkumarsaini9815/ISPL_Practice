{
 "cells": [
  {
   "cell_type": "code",
   "execution_count": null,
   "id": "277a2adb",
   "metadata": {},
   "outputs": [],
   "source": []
  },
  {
   "cell_type": "code",
   "execution_count": 1,
   "id": "4297c8bb",
   "metadata": {},
   "outputs": [],
   "source": [
    "import os, sys\n",
    "os.environ.setdefault('DJANGO_SETTINGS_MODULE', 'ISPL_project.settings')\n",
    "os.environ[\"DJANGO_ALLOW_ASYNC_UNSAFE\"] = \"true\"\n",
    "import django\n",
    "django.setup()"
   ]
  },
  {
   "cell_type": "code",
   "execution_count": null,
   "id": "4f5149ee",
   "metadata": {},
   "outputs": [],
   "source": []
  },
  {
   "cell_type": "code",
   "execution_count": 2,
   "id": "51543cfd",
   "metadata": {},
   "outputs": [],
   "source": [
    "from ISPL_app.models import *"
   ]
  },
  {
   "cell_type": "code",
   "execution_count": null,
   "id": "a2921b84",
   "metadata": {},
   "outputs": [],
   "source": []
  },
  {
   "cell_type": "code",
   "execution_count": 3,
   "id": "748e27ff",
   "metadata": {},
   "outputs": [],
   "source": [
    "# student field \n",
    "\n",
    "# {\"name\":\"vicky\",\"contact\":\"94747394\",\"email\":\"vick123@gmail.com\",\"school_name\":\"bbbc school\",\"address\":\"bangalore\"}\n",
    "\n",
    "# team field\n",
    "\n",
    "# {\"team_name\":\"garud\",\"project_idea\":\"bvb jfj jskf\",\"project_discrapition\":\"xcvbnmghj\"}"
   ]
  },
  {
   "cell_type": "code",
   "execution_count": 25,
   "id": "4c4c0ffa",
   "metadata": {},
   "outputs": [],
   "source": [
    "# registration api json format\n",
    "\n",
    "\n",
    "\n",
    "\n",
    "studet = {\n",
    "    \n",
    "    \"team_name\":\"kings\",\n",
    "    \"project_idea\": \"llakkdm  jdj\",\n",
    "    \"project_discrapition\": \"dfghjkl\",\n",
    "    \"students\": [{\"name\": \"babu\",\n",
    "    \"contact\": \"039476384\",\n",
    "    \"email\": \"babu@gmail.com\",\n",
    "    \"school_name\": \"jaipur school\",\n",
    "    \"address\": \"jaipur\"\n",
    "        \n",
    "    },\n",
    "  {\n",
    "      \"name\": \"lala\",\n",
    "      \"contact\":\"78749\",\n",
    "      \"email\": \"Ram123@gmail.com\",\n",
    "      \"school_name\": \"Rama school\",\n",
    "      \"address\": \"khejroli\"\n",
    "      \n",
    "  }]}"
   ]
  },
  {
   "cell_type": "code",
   "execution_count": null,
   "id": "5b0acdb4",
   "metadata": {},
   "outputs": [],
   "source": []
  },
  {
   "cell_type": "code",
   "execution_count": 24,
   "id": "15c250c8",
   "metadata": {},
   "outputs": [],
   "source": [
    "\n",
    "\n",
    "team_name = student[\"team_name\"]\n",
    "project_idea = student[\"project_idea\"]\n",
    "project_discrapition = student[\"project_discrapition\"]\n",
    "\n",
    "\n",
    "student_data = student[\"students\"]\n",
    "for stu in student_data:\n",
    "    name = stu[\"name\"]\n",
    "    contact = stu[\"contact\"]\n",
    "    email = stu[\"email\"]\n",
    "    school_name = stu[\"school_name\"]\n",
    "    address = stu[\"address\"]\n",
    "    S1 = Student(name=name, contact=contact, email=email, school_name=school_name, address=address)\n",
    "    S1.save()\n",
    "T1 = Team(team_name=team_name, project_idea=project_idea, project_discrapition=project_discrapition)\n",
    "T1.save()"
   ]
  },
  {
   "cell_type": "code",
   "execution_count": null,
   "id": "42ba0649",
   "metadata": {},
   "outputs": [],
   "source": [
    "S1 = Student(name=name, contact=contact, email=email, school_name=school_name, address=address)\n",
    "S1.save()                "
   ]
  },
  {
   "cell_type": "code",
   "execution_count": null,
   "id": "daeee3b2",
   "metadata": {},
   "outputs": [],
   "source": [
    "T1 = Team(team_name=team_name, project_idea=project_idea, project_discrapition=project_discrapition)\n",
    "T1.save()"
   ]
  },
  {
   "cell_type": "code",
   "execution_count": null,
   "id": "0486c424",
   "metadata": {},
   "outputs": [],
   "source": []
  },
  {
   "cell_type": "code",
   "execution_count": null,
   "id": "65df0862",
   "metadata": {},
   "outputs": [],
   "source": []
  },
  {
   "cell_type": "code",
   "execution_count": null,
   "id": "e26a8dde",
   "metadata": {},
   "outputs": [],
   "source": []
  }
 ],
 "metadata": {
  "kernelspec": {
   "display_name": "Python 3 (ipykernel)",
   "language": "python",
   "name": "python3"
  },
  "language_info": {
   "codemirror_mode": {
    "name": "ipython",
    "version": 3
   },
   "file_extension": ".py",
   "mimetype": "text/x-python",
   "name": "python",
   "nbconvert_exporter": "python",
   "pygments_lexer": "ipython3",
   "version": "3.10.7"
  }
 },
 "nbformat": 4,
 "nbformat_minor": 5
}
